{
 "cells": [
  {
   "cell_type": "code",
   "execution_count": null,
   "id": "3448d320",
   "metadata": {},
   "outputs": [],
   "source": [
    "from dotenv import load_dotenv  \n",
    "import os  \n",
    "# Configure logger\n",
    "import logging\n",
    "import sys\n",
    "from azure.ai.projects import AIProjectClient\n",
    "from azure.identity import DefaultAzureCredential\n",
    "from azure.ai.agents.models import CodeInterpreterTool\n",
    "from azure.ai.agents.models import ListSortOrder\n",
    "from azure.ai.agents.models import McpTool, RequiredMcpToolCall, SubmitToolApprovalAction, ToolApproval\n",
    "\n",
    "# Load the .env file  \n",
    "load_dotenv(override=True) \n",
    "\n",
    "# Now you can use the environment variables, for example:  \n",
    "project_endpoint = os.environ[\"PROJECT_ENDPOINT\"]\n",
    "model=os.environ[\"MODEL_DEPLOYMENT_NAME\"]\n",
    "\n",
    "print(project_endpoint + \" \" + model)"
   ]
  },
  {
   "cell_type": "code",
   "execution_count": null,
   "id": "8a29e73b",
   "metadata": {},
   "outputs": [],
   "source": [
    "# Retrieve the project endpoint from environment variables\n",
    "project_endpoint = os.environ[\"PROJECT_ENDPOINT\"]\n",
    "\n",
    "\n",
    "# Initialize the AIProjectClient\n",
    "project_client = AIProjectClient(\n",
    "    endpoint=project_endpoint,\n",
    "    credential=DefaultAzureCredential(),\n",
    ")"
   ]
  },
  {
   "cell_type": "code",
   "execution_count": null,
   "id": "d846b1de",
   "metadata": {},
   "outputs": [],
   "source": [
    "\n",
    "agent_name = os.environ[\"AZURE_MCP_AGENT_NAME\"]\n",
    "agent_list = project_client.agents.list_agents()\n",
    "\n",
    "agent = None\n",
    "if agent_list:\n",
    "    for agent_object in agent_list:\n",
    "        if agent_object.name == agent_name:\n",
    "            agent = agent_object\n",
    "\n",
    "if not agent:\n",
    "    print(f\"Agent '{agent_name}' not found in the project.\")\n",
    "else:\n",
    "    print(f\"Agent '{agent_name}' found in the project.\")\n",
    "    print(f\"Agent ID: {agent.id}\")"
   ]
  },
  {
   "cell_type": "code",
   "execution_count": null,
   "id": "4cb87867",
   "metadata": {},
   "outputs": [],
   "source": [
    "mcp_server_url = \"https://gitmcp.io/Azure/azure-rest-api-specs\"\n",
    "mcp_server_label = \"rest_api_specs\"\n",
    "\n",
    "project_client = AIProjectClient(\n",
    "    endpoint=project_endpoint,\n",
    "    credential=DefaultAzureCredential(),\n",
    "    #exclude_environment_credential=True,\n",
    "    #exclude_managed_identity_credential=True\n",
    ")\n",
    "\n",
    "agents_client = project_client.agents"
   ]
  },
  {
   "cell_type": "code",
   "execution_count": null,
   "id": "0bc35dde",
   "metadata": {},
   "outputs": [],
   "source": [
    "if not agent:\n",
    "    print(f\"Agent with name '{agent_name}' not found, creating a new agent.\")\n",
    "\n",
    "    # Initialize agent MCP tool\n",
    "    mcp_tool = McpTool(\n",
    "    server_label=mcp_server_label,\n",
    "    server_url=mcp_server_url,\n",
    "    allowed_tools=[],  # Optional: specify allowed tools\n",
    "    )\n",
    "\n",
    "    print(f\"Allowed tools: {mcp_tool.allowed_tools}\")\n",
    "\n",
    "    # Create a new agent with the mcp tool definitions\n",
    "    agent = agents_client.create_agent(\n",
    "        model=os.environ[\"MODEL_DEPLOYMENT_NAME\"],\n",
    "        name=agent_name,\n",
    "        instructions=\"\"\"\n",
    "        You are a helpful assistant. Use the tools provided to answer the user's questions.  Be sure to cite your sources.\"\"\",\n",
    "        tools=mcp_tool.definitions,\n",
    ")\n",
    "    print(f\"Created agent, ID: {agent.id}\")\n",
    "else:\n",
    "    print(f\"Found agent by name '{agent_name}', ID={agent.id}\")\n",
    "\n"
   ]
  },
  {
   "cell_type": "code",
   "execution_count": null,
   "id": "5380a8b8",
   "metadata": {},
   "outputs": [],
   "source": [
    "thread = agents_client.threads.create()\n",
    "print(f\"Created thread, ID: {thread.id}\")"
   ]
  },
  {
   "cell_type": "code",
   "execution_count": null,
   "id": "1be5aab2",
   "metadata": {},
   "outputs": [],
   "source": [
    "message = agents_client.messages.create(\n",
    "    thread_id=thread.id,\n",
    "    role=\"user\",\n",
    "    content=\"\"\"\n",
    "    TEll me about the Azure REST API specs\n",
    "    \"\"\"\n",
    ")\n",
    "\n",
    "print(f\"Created message, ID: {message.id}\")"
   ]
  },
  {
   "cell_type": "code",
   "execution_count": null,
   "id": "97c8cc6a",
   "metadata": {},
   "outputs": [],
   "source": [
    "run = project_client.agents.runs.create(thread_id=thread.id, agent_id=agent.id, tool_resources=mcp_tool.resources)\n",
    "print(f\"Created run, ID: {run.id}\")"
   ]
  },
  {
   "cell_type": "code",
   "execution_count": null,
   "id": "0a29c2af",
   "metadata": {},
   "outputs": [],
   "source": [
    "import time\n",
    "\n",
    "while run.status in [\"queued\", \"in_progress\", \"requires_action\"]:\n",
    "    time.sleep(1)\n",
    "    print(f\"Waiting for run to complete, current status: {run.status}\")\n",
    "    run = agents_client.runs.get(thread_id=thread.id, run_id=run.id)\n",
    "\n",
    "    if run.status == \"requires_action\" and isinstance(run.required_action, SubmitToolApprovalAction):\n",
    "        tool_calls = run.required_action.submit_tool_approval.tool_calls\n",
    "        if not tool_calls:\n",
    "            print(\"No tool calls provided - cancelling run\")\n",
    "            agents_client.runs.cancel(thread_id=thread.id, run_id=run.id)\n",
    "            break\n",
    "\n",
    "        tool_approvals = []\n",
    "        for tool_call in tool_calls:\n",
    "            if isinstance(tool_call, RequiredMcpToolCall):\n",
    "                try:\n",
    "                    print(f\"Approving tool call: {tool_call}\")\n",
    "                    tool_approvals.append(\n",
    "                        ToolApproval(\n",
    "                            tool_call_id=tool_call.id,\n",
    "                            approve=True,\n",
    "                            headers=mcp_tool.headers,\n",
    "                        )\n",
    "                    )\n",
    "                except Exception as e:\n",
    "                    print(f\"Error approving tool_call {tool_call.id}: {e}\")\n",
    "\n",
    "        print(f\"tool_approvals: {tool_approvals}\")\n",
    "        if tool_approvals:\n",
    "            agents_client.runs.submit_tool_outputs(\n",
    "                thread_id=thread.id, run_id=run.id, tool_approvals=tool_approvals\n",
    "            )\n",
    "\n",
    "print(f\"Current run status: {run.status}\")\n"
   ]
  },
  {
   "cell_type": "code",
   "execution_count": null,
   "id": "9c8a1304",
   "metadata": {},
   "outputs": [],
   "source": [
    "if run.status == \"failed\":\n",
    "        print(f\"Run failed: {run.last_error}\")\n",
    "    \n",
    "# Fetch and log all messages\n",
    "messages = project_client.agents.messages.list(thread_id=thread.id)\n",
    "for message in messages:\n",
    "    print(f\"Role: {message.role}, Content: {message.content}\")"
   ]
  },
  {
   "cell_type": "code",
   "execution_count": null,
   "id": "5d67bf3f",
   "metadata": {},
   "outputs": [],
   "source": []
  },
  {
   "cell_type": "code",
   "execution_count": null,
   "id": "9ed88763",
   "metadata": {},
   "outputs": [],
   "source": []
  }
 ],
 "metadata": {
  "kernelspec": {
   "display_name": ".venv",
   "language": "python",
   "name": "python3"
  },
  "language_info": {
   "codemirror_mode": {
    "name": "ipython",
    "version": 3
   },
   "file_extension": ".py",
   "mimetype": "text/x-python",
   "name": "python",
   "nbconvert_exporter": "python",
   "pygments_lexer": "ipython3",
   "version": "3.13.5"
  }
 },
 "nbformat": 4,
 "nbformat_minor": 5
}
