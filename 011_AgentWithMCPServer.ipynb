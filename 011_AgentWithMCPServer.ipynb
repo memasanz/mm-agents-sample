{
 "cells": [
  {
   "cell_type": "code",
   "execution_count": 99,
   "id": "3448d320",
   "metadata": {},
   "outputs": [],
   "source": [
    "from dotenv import load_dotenv  \n",
    "import os  \n",
    "# Configure logger\n",
    "import logging\n",
    "import sys\n",
    "from azure.ai.projects import AIProjectClient\n",
    "from azure.identity import DefaultAzureCredential\n",
    "from azure.ai.agents.models import CodeInterpreterTool\n",
    "from azure.ai.agents.models import ListSortOrder\n",
    "from azure.ai.agents.models import McpTool, RequiredMcpToolCall, SubmitToolApprovalAction, ToolApproval, MessageTextContent\n",
    "\n",
    "# Load the .env file  \n",
    "load_dotenv(override=True) \n",
    "\n",
    "# Now you can use the environment variables, for example:  \n",
    "project_endpoint = os.environ[\"PROJECT_ENDPOINT\"]\n",
    "model=os.environ[\"MODEL_DEPLOYMENT_NAME\"]\n"
   ]
  },
  {
   "cell_type": "code",
   "execution_count": 81,
   "id": "8a29e73b",
   "metadata": {},
   "outputs": [],
   "source": [
    "# Retrieve the project endpoint from environment variables\n",
    "project_endpoint = os.environ[\"PROJECT_ENDPOINT\"]\n",
    "\n",
    "\n",
    "# Initialize the AIProjectClient\n",
    "project_client = AIProjectClient(\n",
    "    endpoint=project_endpoint,\n",
    "    credential=DefaultAzureCredential(),\n",
    ")"
   ]
  },
  {
   "cell_type": "code",
   "execution_count": 82,
   "id": "d846b1de",
   "metadata": {},
   "outputs": [
    {
     "name": "stdout",
     "output_type": "stream",
     "text": [
      "Agent 'mmx-ai-mcp-agent' found in the project.\n",
      "Agent ID: asst_Xo8NrkiCzJRNT9bTGsniN8R1\n"
     ]
    }
   ],
   "source": [
    "\n",
    "agent_name = os.environ[\"AZURE_MCP_AGENT_NAME\"]\n",
    "agent_list = project_client.agents.list_agents()\n",
    "\n",
    "agent = None\n",
    "if agent_list:\n",
    "    for agent_object in agent_list:\n",
    "        if agent_object.name == agent_name:\n",
    "            agent = agent_object\n",
    "\n",
    "if not agent:\n",
    "    print(f\"Agent '{agent_name}' not found in the project.\")\n",
    "else:\n",
    "    print(f\"Agent '{agent_name}' found in the project.\")\n",
    "    print(f\"Agent ID: {agent.id}\")"
   ]
  },
  {
   "cell_type": "code",
   "execution_count": 83,
   "id": "4cb87867",
   "metadata": {},
   "outputs": [],
   "source": [
    "mcp_server_url = \"https://gitmcp.io/Azure/azure-rest-api-specs\"\n",
    "mcp_server_label = \"rest_api_specs\"\n",
    "\n",
    "project_client = AIProjectClient(\n",
    "    endpoint=project_endpoint,\n",
    "    credential=DefaultAzureCredential(),\n",
    "    #exclude_environment_credential=True,\n",
    "    #exclude_managed_identity_credential=True\n",
    ")\n",
    "\n",
    "agents_client = project_client.agents"
   ]
  },
  {
   "cell_type": "code",
   "execution_count": 84,
   "id": "0bc35dde",
   "metadata": {},
   "outputs": [
    {
     "name": "stdout",
     "output_type": "stream",
     "text": [
      "Found agent by name 'mmx-ai-mcp-agent', ID=asst_Xo8NrkiCzJRNT9bTGsniN8R1\n"
     ]
    }
   ],
   "source": [
    "if not agent:\n",
    "    print(f\"Agent with name '{agent_name}' not found, creating a new agent.\")\n",
    "\n",
    "    # Initialize agent MCP tool\n",
    "    mcp_tool = McpTool(\n",
    "    server_label=mcp_server_label,\n",
    "    server_url=mcp_server_url,\n",
    "    allowed_tools=[],  # Optional: specify allowed tools\n",
    "    )\n",
    "\n",
    "    print(f\"Allowed tools: {mcp_tool.allowed_tools}\")\n",
    "\n",
    "    # Create a new agent with the mcp tool definitions\n",
    "    agent = agents_client.create_agent(\n",
    "        model=os.environ[\"MODEL_DEPLOYMENT_NAME\"],\n",
    "        name=agent_name,\n",
    "        instructions=\"\"\"\n",
    "        You are a helpful assistant. Use the tools provided to answer the user's questions.  Be sure to cite your sources.\"\"\",\n",
    "        tools=mcp_tool.definitions,\n",
    ")\n",
    "    print(f\"Created agent, ID: {agent.id}\")\n",
    "else:\n",
    "    print(f\"Found agent by name '{agent_name}', ID={agent.id}\")\n",
    "\n"
   ]
  },
  {
   "cell_type": "code",
   "execution_count": 85,
   "id": "5380a8b8",
   "metadata": {},
   "outputs": [
    {
     "name": "stdout",
     "output_type": "stream",
     "text": [
      "Created thread, ID: thread_AIdOuBMSUKuUq1RFmCdiDf3X\n"
     ]
    }
   ],
   "source": [
    "thread = agents_client.threads.create()\n",
    "print(f\"Created thread, ID: {thread.id}\")"
   ]
  },
  {
   "cell_type": "code",
   "execution_count": 86,
   "id": "1be5aab2",
   "metadata": {},
   "outputs": [
    {
     "name": "stdout",
     "output_type": "stream",
     "text": [
      "Created message, ID: msg_DtFZLH5xKrVyUfqUFRYnba5M\n"
     ]
    }
   ],
   "source": [
    "message = agents_client.messages.create(\n",
    "    thread_id=thread.id,\n",
    "    role=\"user\",\n",
    "    content=\"\"\"\n",
    "    TEll me about the Azure REST API specs\n",
    "    \"\"\"\n",
    ")\n",
    "\n",
    "print(f\"Created message, ID: {message.id}\")"
   ]
  },
  {
   "cell_type": "code",
   "execution_count": 87,
   "id": "97c8cc6a",
   "metadata": {},
   "outputs": [
    {
     "name": "stdout",
     "output_type": "stream",
     "text": [
      "Created run, ID: run_3g6IRalWzoXyyg7b5IO5OX72\n"
     ]
    }
   ],
   "source": [
    "run = project_client.agents.runs.create(thread_id=thread.id, agent_id=agent.id, tool_resources=mcp_tool.resources)\n",
    "print(f\"Created run, ID: {run.id}\")"
   ]
  },
  {
   "cell_type": "code",
   "execution_count": 88,
   "id": "0a29c2af",
   "metadata": {},
   "outputs": [
    {
     "name": "stdout",
     "output_type": "stream",
     "text": [
      "Waiting for run to complete, current status: RunStatus.QUEUED\n",
      "Waiting for run to complete, current status: RunStatus.IN_PROGRESS\n",
      "Waiting for run to complete, current status: RunStatus.IN_PROGRESS\n",
      "Waiting for run to complete, current status: RunStatus.IN_PROGRESS\n",
      "Waiting for run to complete, current status: RunStatus.IN_PROGRESS\n",
      "Waiting for run to complete, current status: RunStatus.IN_PROGRESS\n",
      "Waiting for run to complete, current status: RunStatus.IN_PROGRESS\n",
      "Waiting for run to complete, current status: RunStatus.IN_PROGRESS\n",
      "Waiting for run to complete, current status: RunStatus.IN_PROGRESS\n",
      "Waiting for run to complete, current status: RunStatus.IN_PROGRESS\n",
      "Waiting for run to complete, current status: RunStatus.IN_PROGRESS\n",
      "Waiting for run to complete, current status: RunStatus.IN_PROGRESS\n",
      "Waiting for run to complete, current status: RunStatus.IN_PROGRESS\n",
      "Waiting for run to complete, current status: RunStatus.IN_PROGRESS\n",
      "Waiting for run to complete, current status: RunStatus.IN_PROGRESS\n",
      "Current run status: RunStatus.COMPLETED\n"
     ]
    }
   ],
   "source": [
    "import time\n",
    "\n",
    "while run.status in [\"queued\", \"in_progress\", \"requires_action\"]:\n",
    "    time.sleep(1)\n",
    "    print(f\"Waiting for run to complete, current status: {run.status}\")\n",
    "    run = agents_client.runs.get(thread_id=thread.id, run_id=run.id)\n",
    "\n",
    "    if run.status == \"requires_action\" and isinstance(run.required_action, SubmitToolApprovalAction):\n",
    "        tool_calls = run.required_action.submit_tool_approval.tool_calls\n",
    "        if not tool_calls:\n",
    "            print(\"No tool calls provided - cancelling run\")\n",
    "            agents_client.runs.cancel(thread_id=thread.id, run_id=run.id)\n",
    "            break\n",
    "\n",
    "        tool_approvals = []\n",
    "        for tool_call in tool_calls:\n",
    "            if isinstance(tool_call, RequiredMcpToolCall):\n",
    "                try:\n",
    "                    print(f\"Approving tool call: {tool_call}\")\n",
    "                    tool_approvals.append(\n",
    "                        ToolApproval(\n",
    "                            tool_call_id=tool_call.id,\n",
    "                            approve=True,\n",
    "                            headers=mcp_tool.headers,\n",
    "                        )\n",
    "                    )\n",
    "                except Exception as e:\n",
    "                    print(f\"Error approving tool_call {tool_call.id}: {e}\")\n",
    "\n",
    "        print(f\"tool_approvals: {tool_approvals}\")\n",
    "        if tool_approvals:\n",
    "            agents_client.runs.submit_tool_outputs(\n",
    "                thread_id=thread.id, run_id=run.id, tool_approvals=tool_approvals\n",
    "            )\n",
    "\n",
    "print(f\"Current run status: {run.status}\")\n"
   ]
  },
  {
   "cell_type": "code",
   "execution_count": 89,
   "id": "9c8a1304",
   "metadata": {},
   "outputs": [
    {
     "name": "stdout",
     "output_type": "stream",
     "text": [
      "Role: MessageRole.AGENT, Content: [{'type': 'text', 'text': {'value': \"The Azure REST API specs refer to the formal OpenAPI (formerly known as Swagger) specifications used by Microsoft Azure to describe the REST APIs provided by their cloud platform. These specs are publicly available and maintained in the [Azure/azure-rest-api-specs GitHub repository](https://github.com/Azure/azure-rest-api-specs). Here’s an overview:\\n\\n## What Are Azure REST API Specs?\\n\\n- **OpenAPI Format**: The specs use the OpenAPI standard (YAML/JSON) to define endpoints, parameters, authentication, request/response formats, and more.\\n- **Coverage**: Specs are provided for most Azure services (e.g., Compute, Storage, Networking, Key Vault, Cosmos DB).\\n- **Purpose**: They enable developers, SDK generators, tools, and integrations to interact with Azure services programmatically and in a standardized way.\\n\\n## Key Features\\n\\n- **Comprehensive**: Covers almost all management (ARM) and many data-plane (service-level) APIs.\\n- **Enables SDK Generation**: Used to auto-generate Azure SDKs for different languages (Python, .NET, Java, Go, etc.).\\n- **Consistency**: Ensures API updates and new Azure services are documented in a consistent, discoverable way.\\n\\n## Structure\\n\\n- **GitHub Repository**: [Azure/azure-rest-api-specs](https://github.com/Azure/azure-rest-api-specs)\\n  - Organized by service (e.g., `specification/storage/resource-manager`)\\n  - Includes readme files, version folders, and OpenAPI (swagger) definitions\\n\\n## Usage\\n\\n- **Developers**: Reference specs for direct REST API integration or to understand Azure’s REST contract.\\n- **Tooling**: Used by tools like [Azure REST API Reference Docs](https://learn.microsoft.com/en-us/rest/api/azure/) and SDK generators.\\n- **Validation & Linting**: Spec files are validated and linted as part of Microsoft’s API lifecycle.\\n\\n## Example\\n\\nHere’s a brief excerpt of an OpenAPI spec for a storage account list operation (YAML):\\n\\n```yaml\\npaths:\\n  /subscriptions/{subscriptionId}/resourceGroups/{resourceGroupName}/providers/Microsoft.Storage/storageAccounts:\\n    get:\\n      summary: Lists all storage accounts\\n      parameters: [...]\\n      responses:\\n        '200':\\n          description: Successful operation\\n          content:\\n            application/json:\\n              schema:\\n                $ref: '#/components/schemas/StorageAccountListResult'\\n```\\n\\n## Resources\\n\\n- [Azure REST API Reference Docs](https://learn.microsoft.com/en-us/rest/api/azure/)\\n- [Azure/azure-rest-api-specs GitHub Repository](https://github.com/Azure/azure-rest-api-specs)\\n- [OpenAPI Specification](https://swagger.io/specification/)\\n\\nLet me know if you want details about a specific service or API!\", 'annotations': []}}]\n",
      "Role: MessageRole.USER, Content: [{'type': 'text', 'text': {'value': '\\n    TEll me about the Azure REST API specs\\n    ', 'annotations': []}}]\n"
     ]
    }
   ],
   "source": [
    "if run.status == \"failed\":\n",
    "        print(f\"Run failed: {run.last_error}\")\n",
    "    \n",
    "# Fetch and log all messages\n",
    "messages = project_client.agents.messages.list(thread_id=thread.id)\n",
    "for message in messages:\n",
    "    print(f\"Role: {message.role}, Content: {message.content}\")"
   ]
  },
  {
   "cell_type": "code",
   "execution_count": 96,
   "id": "5d67bf3f",
   "metadata": {},
   "outputs": [
    {
     "name": "stdout",
     "output_type": "stream",
     "text": [
      "Step ID: step_0UBtkZp5xOLnPBvoOuP8OWdN, Status: RunStepStatus.COMPLETED, type: RunStepType.MESSAGE_CREATION\n"
     ]
    }
   ],
   "source": [
    "import json\n",
    "from IPython.display import display, Markdown\n",
    "\n",
    "run_steps = project_client.agents.run_steps.list(thread_id = thread.id, run_id = run.id)\n",
    "\n",
    "for step in run_steps:\n",
    "    print(f\"Step ID: {step.id}, Status: {step.status}, type: {step.type}\")\n",
    "    if step.type == \"tool_calls\":\n",
    "        print(f\"Too call details:\")\n",
    "        for tool_call in step.step_details.tool_calls:\n",
    "            print(json.dumps(tool_call.as_dict(), indent = 2))\n"
   ]
  },
  {
   "cell_type": "code",
   "execution_count": 98,
   "id": "9ed88763",
   "metadata": {},
   "outputs": [
    {
     "data": {
      "text/markdown": [
       "MessageRole.AGENT"
      ],
      "text/plain": [
       "<IPython.core.display.Markdown object>"
      ]
     },
     "metadata": {},
     "output_type": "display_data"
    },
    {
     "data": {
      "text/markdown": [
       "The Azure REST API specs refer to the formal OpenAPI (formerly known as Swagger) specifications used by Microsoft Azure to describe the REST APIs provided by their cloud platform. These specs are publicly available and maintained in the [Azure/azure-rest-api-specs GitHub repository](https://github.com/Azure/azure-rest-api-specs). Here’s an overview:\n",
       "\n",
       "## What Are Azure REST API Specs?\n",
       "\n",
       "- **OpenAPI Format**: The specs use the OpenAPI standard (YAML/JSON) to define endpoints, parameters, authentication, request/response formats, and more.\n",
       "- **Coverage**: Specs are provided for most Azure services (e.g., Compute, Storage, Networking, Key Vault, Cosmos DB).\n",
       "- **Purpose**: They enable developers, SDK generators, tools, and integrations to interact with Azure services programmatically and in a standardized way.\n",
       "\n",
       "## Key Features\n",
       "\n",
       "- **Comprehensive**: Covers almost all management (ARM) and many data-plane (service-level) APIs.\n",
       "- **Enables SDK Generation**: Used to auto-generate Azure SDKs for different languages (Python, .NET, Java, Go, etc.).\n",
       "- **Consistency**: Ensures API updates and new Azure services are documented in a consistent, discoverable way.\n",
       "\n",
       "## Structure\n",
       "\n",
       "- **GitHub Repository**: [Azure/azure-rest-api-specs](https://github.com/Azure/azure-rest-api-specs)\n",
       "  - Organized by service (e.g., `specification/storage/resource-manager`)\n",
       "  - Includes readme files, version folders, and OpenAPI (swagger) definitions\n",
       "\n",
       "## Usage\n",
       "\n",
       "- **Developers**: Reference specs for direct REST API integration or to understand Azure’s REST contract.\n",
       "- **Tooling**: Used by tools like [Azure REST API Reference Docs](https://learn.microsoft.com/en-us/rest/api/azure/) and SDK generators.\n",
       "- **Validation & Linting**: Spec files are validated and linted as part of Microsoft’s API lifecycle.\n",
       "\n",
       "## Example\n",
       "\n",
       "Here’s a brief excerpt of an OpenAPI spec for a storage account list operation (YAML):\n",
       "\n",
       "```yaml\n",
       "paths:\n",
       "  /subscriptions/{subscriptionId}/resourceGroups/{resourceGroupName}/providers/Microsoft.Storage/storageAccounts:\n",
       "    get:\n",
       "      summary: Lists all storage accounts\n",
       "      parameters: [...]\n",
       "      responses:\n",
       "        '200':\n",
       "          description: Successful operation\n",
       "          content:\n",
       "            application/json:\n",
       "              schema:\n",
       "                $ref: '#/components/schemas/StorageAccountListResult'\n",
       "```\n",
       "\n",
       "## Resources\n",
       "\n",
       "- [Azure REST API Reference Docs](https://learn.microsoft.com/en-us/rest/api/azure/)\n",
       "- [Azure/azure-rest-api-specs GitHub Repository](https://github.com/Azure/azure-rest-api-specs)\n",
       "- [OpenAPI Specification](https://swagger.io/specification/)\n",
       "\n",
       "Let me know if you want details about a specific service or API!"
      ],
      "text/plain": [
       "<IPython.core.display.Markdown object>"
      ]
     },
     "metadata": {},
     "output_type": "display_data"
    }
   ],
   "source": [
    "messages = project_client.agents.messages.list(thread_id = thread.id, run_id = run.id, order = ListSortOrder.ASCENDING)\n",
    "\n",
    "for message in messages:\n",
    "    last_message = message.content[-1]\n",
    "    if isinstance(last_message, MessageTextContent):\n",
    "        display(Markdown(f\"{message.role}\"))\n",
    "        display(Markdown(f\"{last_message.text.value}\"))"
   ]
  },
  {
   "cell_type": "code",
   "execution_count": null,
   "id": "4b3b2601",
   "metadata": {},
   "outputs": [],
   "source": []
  }
 ],
 "metadata": {
  "kernelspec": {
   "display_name": ".venv",
   "language": "python",
   "name": "python3"
  },
  "language_info": {
   "codemirror_mode": {
    "name": "ipython",
    "version": 3
   },
   "file_extension": ".py",
   "mimetype": "text/x-python",
   "name": "python",
   "nbconvert_exporter": "python",
   "pygments_lexer": "ipython3",
   "version": "3.13.5"
  }
 },
 "nbformat": 4,
 "nbformat_minor": 5
}
