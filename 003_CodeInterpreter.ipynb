{
 "cells": [
  {
   "cell_type": "markdown",
   "id": "f86aa6b0",
   "metadata": {},
   "source": [
    "## Code Interpreter"
   ]
  },
  {
   "cell_type": "code",
   "execution_count": null,
   "id": "57a51478",
   "metadata": {},
   "outputs": [],
   "source": [
    "from dotenv import load_dotenv  \n",
    "import os  \n",
    "# Configure logger\n",
    "import logging\n",
    "import sys\n",
    "from azure.ai.projects import AIProjectClient\n",
    "from azure.identity import DefaultAzureCredential\n",
    "from azure.ai.agents.models import CodeInterpreterTool\n",
    "from azure.ai.agents.models import ListSortOrder\n",
    "from azure.monitor.opentelemetry import configure_azure_monitor\n",
    "\n",
    "# Load the .env file  \n",
    "load_dotenv(override=True) \n",
    "\n",
    "# Now you can use the environment variables, for example:  \n",
    "project_endpoint = os.environ[\"PROJECT_ENDPOINT\"]\n",
    "model=os.environ[\"MODEL_DEPLOYMENT_NAME\"]\n",
    "\n",
    "print(project_endpoint + \" \" + model)\n"
   ]
  },
  {
   "cell_type": "code",
   "execution_count": null,
   "id": "39004728",
   "metadata": {},
   "outputs": [],
   "source": [
    "# Create a logger\n",
    "logger = logging.getLogger(\"notebook_logger\")\n",
    "logger.setLevel(logging.INFO)\n",
    "\n",
    "# Clear existing handlers to avoid duplicate logs\n",
    "if logger.hasHandlers():\n",
    "    logger.handlers.clear()\n",
    "\n",
    "# Create handler that outputs to notebook\n",
    "handler = logging.StreamHandler(sys.stdout)\n",
    "formatter = logging.Formatter('%(asctime)s - %(levelname)s - %(message)s')\n",
    "handler.setFormatter(formatter)\n",
    "\n",
    "logger.addHandler(handler)\n",
    "\n",
    "# Example usage\n",
    "logger.info(\"Logger is now printing to the notebook!\")"
   ]
  },
  {
   "cell_type": "code",
   "execution_count": null,
   "id": "9371e29a",
   "metadata": {},
   "outputs": [],
   "source": [
    "# Retrieve the project endpoint from environment variables\n",
    "project_endpoint = os.environ[\"PROJECT_ENDPOINT\"]\n",
    "\n",
    "# Initialize the AIProjectClient\n",
    "project_client = AIProjectClient(\n",
    "    endpoint=project_endpoint,\n",
    "    credential=DefaultAzureCredential(),\n",
    ")\n",
    "\n",
    "os.environ['AZURE_TRACING_GEN_AI_CONTENT_RECORDING_ENABLED'] = 'true'\n",
    "# Enable Azure Monitor tracing\n",
    "application_insights_connection_string = project_client.telemetry.get_connection_string()\n",
    "\n",
    "if not application_insights_connection_string:\n",
    "    print(\"Application Insights was not enabled for this project.\")\n",
    "    print(\"Enable it via the 'Tracing' tab in your Azure AI Foundry project page.\")\n",
    "    exit()\n",
    "    \n",
    "configure_azure_monitor(connection_string=application_insights_connection_string)"
   ]
  },
  {
   "cell_type": "markdown",
   "id": "8a0aa7e6",
   "metadata": {},
   "source": []
  },
  {
   "cell_type": "code",
   "execution_count": null,
   "id": "6f2cf034",
   "metadata": {},
   "outputs": [],
   "source": [
    "\n",
    "agent_name = os.environ[\"AZURE_AI_AGENT_NAME_03\"]\n",
    "agent_list = project_client.agents.list_agents()\n",
    "\n",
    "agent = None\n",
    "if agent_list:\n",
    "    for agent_object in agent_list:\n",
    "        if agent_object.name == agent_name:\n",
    "            agent = agent_object\n",
    "\n",
    "if not agent:\n",
    "    print(f\"Agent '{agent_name}' not found in the project.\")"
   ]
  },
  {
   "cell_type": "code",
   "execution_count": null,
   "id": "0e54f94b",
   "metadata": {},
   "outputs": [],
   "source": [
    "import os\n",
    "from azure.ai.projects import AIProjectClient\n",
    "from azure.identity import DefaultAzureCredential\n",
    "from azure.ai.agents.models import CodeInterpreterTool\n",
    "from azure.ai.agents.models import ListSortOrder\n",
    "\n",
    "code_interpreter = CodeInterpreterTool()\n"
   ]
  },
  {
   "cell_type": "code",
   "execution_count": null,
   "id": "05d8efad",
   "metadata": {},
   "outputs": [],
   "source": [
    "from azure.ai.agents.models import FilePurpose\n",
    "\n",
    "\n",
    "# Create an Azure AI Client from an endpoint, copied from your Azure AI Foundry project.\n",
    "# You need to login to Azure subscription via Azure CLI and set the environment variables\n",
    "project_endpoint = os.environ[\"PROJECT_ENDPOINT\"]  # Ensure the PROJECT_ENDPOINT environment variable is set\n",
    "\n",
    "# Create an AIProjectClient instance\n",
    "project_client = AIProjectClient(\n",
    "    endpoint=project_endpoint,\n",
    "    credential=DefaultAzureCredential(),  # Use Azure Default Credential for authentication\n",
    ")\n",
    "\n",
    "if not agent:\n",
    "    FILE_PATH = \"./data/nifty_500_quarterly_results.csv\"  # Path to the CSV file you want to upload\n",
    "\n",
    "    # Step 2: Upload the CSV file  \n",
    "    print(f\"Step 2: Uploading file '{FILE_PATH}'...\")  \n",
    "    uploaded_file = project_client.agents.files.upload_and_poll( \n",
    "                    file_path=FILE_PATH,  \n",
    "                    purpose=FilePurpose.AGENTS  \n",
    "                )  \n",
    "    print(f\"Uploaded file, file ID: {uploaded_file.id}\") \n",
    "\n",
    "    code_interpreter = CodeInterpreterTool(file_ids=[uploaded_file.id])\n",
    "\n",
    "    agent = project_client.agents.create_agent(\n",
    "                    model=os.environ[\"MODEL_DEPLOYMENT_NAME\"],\n",
    "                    name=agent_name,\n",
    "                    instructions=\"You are helpful agent that has the ability to write and execute code to analyze data.\",\n",
    "                    tools=code_interpreter.definitions,\n",
    "                    tool_resources=code_interpreter.resources,\n",
    "                )\n",
    "else:\n",
    "    logger.info(f\"Found agent by name '{agent_name}', ID={agent.id}\")"
   ]
  },
  {
   "cell_type": "code",
   "execution_count": null,
   "id": "d8fd8560",
   "metadata": {},
   "outputs": [],
   "source": [
    "thread = project_client.agents.threads.create()\n",
    "message = project_client.agents.messages.create(\n",
    "                thread_id=thread.id,\n",
    "                role=\"user\",\n",
    "                content=\"Review the csv file, Which company has the highest net profit margin in Q1, and what does this indicate about its operational efficiency compared to others in the dataset?\",\n",
    "            )\n",
    "\n",
    "run = project_client.agents.runs.create_and_process(\n",
    "                thread_id=thread.id,\n",
    "                agent_id=agent.id)"
   ]
  },
  {
   "cell_type": "code",
   "execution_count": null,
   "id": "124f90ba",
   "metadata": {},
   "outputs": [],
   "source": [
    "print(thread.id)\n",
    "print(agent.id)\n",
    "print(run.id)\n",
    "print(run.status)"
   ]
  },
  {
   "cell_type": "code",
   "execution_count": null,
   "id": "2eeb4447",
   "metadata": {},
   "outputs": [],
   "source": [
    "run = project_client.agents.runs.get(\n",
    "                thread_id=thread.id,\n",
    "                run_id=run.id\n",
    "            )\n",
    "\n",
    "print(\"Run status:\", run.status)"
   ]
  },
  {
   "cell_type": "code",
   "execution_count": null,
   "id": "2a7b9070",
   "metadata": {},
   "outputs": [],
   "source": [
    "import json\n",
    "from IPython.display import display, Markdown\n",
    "\n",
    "\n",
    "if run.status == \"failed\":\n",
    "        print(f\"Run failed: {run.last_error}\")\n",
    "else:\n",
    "        messages = project_client.agents.messages.list(thread_id=thread.id, order=ListSortOrder.ASCENDING)\n",
    "\n",
    "for message in messages:\n",
    "            if message.text_messages:\n",
    "                markdown_text = f\"{message.role}: {message.text_messages[-1].text.value}\"\n",
    "                display(Markdown(markdown_text))"
   ]
  },
  {
   "cell_type": "code",
   "execution_count": null,
   "id": "6a89f0cd",
   "metadata": {},
   "outputs": [],
   "source": [
    "run_steps = project_client.agents.run_steps.list(thread_id=thread.id, run_id=run.id)\n",
    "\n",
    "for step in run_steps:\n",
    "        print(f\"Step {step['id']} status: {step['status']}\")\n",
    "        step_details = step.get(\"step_details\", {})\n",
    "        tool_calls = step_details.get(\"tool_calls\", [])\n",
    "\n",
    "        if tool_calls:\n",
    "            print(\"  Tool calls:\")\n",
    "            for call in tool_calls:\n",
    "                print(f\"    Tool Call ID: {call.get('id')}\")\n",
    "                print(f\"    Type: {call.get('type')}\")\n",
    "\n",
    "\n",
    "        print()  # add an extra newline between steps"
   ]
  },
  {
   "cell_type": "code",
   "execution_count": null,
   "id": "e77d9567",
   "metadata": {},
   "outputs": [],
   "source": []
  },
  {
   "cell_type": "code",
   "execution_count": null,
   "id": "d893720d",
   "metadata": {},
   "outputs": [],
   "source": []
  }
 ],
 "metadata": {
  "kernelspec": {
   "display_name": ".venv",
   "language": "python",
   "name": "python3"
  },
  "language_info": {
   "codemirror_mode": {
    "name": "ipython",
    "version": 3
   },
   "file_extension": ".py",
   "mimetype": "text/x-python",
   "name": "python",
   "nbconvert_exporter": "python",
   "pygments_lexer": "ipython3",
   "version": "3.13.5"
  }
 },
 "nbformat": 4,
 "nbformat_minor": 5
}
