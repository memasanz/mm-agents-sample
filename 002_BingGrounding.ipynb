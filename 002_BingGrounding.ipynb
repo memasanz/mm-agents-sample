{
 "cells": [
  {
   "cell_type": "markdown",
   "id": "6e52a302",
   "metadata": {},
   "source": [
    "## Create a Bing Grounded Agent\n",
    "\n",
    "https://github.com/Azure/azure-sdk-for-python/blob/main/sdk/ai/azure-ai-agents/samples/agents_tools/sample_agents_bing_grounding.py"
   ]
  },
  {
   "cell_type": "code",
   "execution_count": null,
   "id": "d4a3198c",
   "metadata": {},
   "outputs": [],
   "source": [
    "from dotenv import load_dotenv  \n",
    "import os  \n",
    "# Configure logger\n",
    "import logging\n",
    "import sys\n",
    "from azure.ai.projects import AIProjectClient\n",
    "from azure.identity import DefaultAzureCredential\n",
    "from azure.ai.agents.models import CodeInterpreterTool\n",
    "from azure.ai.agents.models import ListSortOrder\n",
    "from azure.monitor.opentelemetry import configure_azure_monitor\n",
    "from azure.ai.agents.models import BingGroundingTool\n",
    "\n",
    "# Load the .env file  \n",
    "load_dotenv(override=True) \n",
    "\n",
    "# Now you can use the environment variables, for example:  \n",
    "project_endpoint = os.environ[\"PROJECT_ENDPOINT\"]\n",
    "model=os.environ[\"AZURE_OPENAI_GPT_MODEL\"]\n",
    "\n",
    "\n",
    "BING_CONNECTION_NAME = os.environ[\"BING_CONNECTION_NAME\"]\n",
    "print(f\"BING_CONNECTION_NAME: {BING_CONNECTION_NAME}\")"
   ]
  },
  {
   "cell_type": "code",
   "execution_count": null,
   "id": "517795ec",
   "metadata": {},
   "outputs": [],
   "source": [
    "# Create a logger\n",
    "logger = logging.getLogger(\"notebook_logger\")\n",
    "logger.setLevel(logging.INFO)\n",
    "\n",
    "# Clear existing handlers to avoid duplicate logs\n",
    "if logger.hasHandlers():\n",
    "    logger.handlers.clear()\n",
    "\n",
    "# Create handler that outputs to notebook\n",
    "handler = logging.StreamHandler(sys.stdout)\n",
    "formatter = logging.Formatter('%(asctime)s - %(levelname)s - %(message)s')\n",
    "handler.setFormatter(formatter)\n",
    "\n",
    "logger.addHandler(handler)\n",
    "\n",
    "# Example usage\n",
    "logger.info(\"Logger is now printing to the notebook!\")"
   ]
  },
  {
   "cell_type": "code",
   "execution_count": null,
   "id": "3521aa53",
   "metadata": {},
   "outputs": [],
   "source": [
    "# Retrieve the project endpoint from environment variables\n",
    "project_endpoint = os.environ[\"PROJECT_ENDPOINT\"]\n",
    "\n",
    "\n",
    "# Initialize the AIProjectClient\n",
    "project_client = AIProjectClient(\n",
    "    endpoint=project_endpoint,\n",
    "    credential=DefaultAzureCredential(),\n",
    ")\n",
    "\n",
    "os.environ['AZURE_TRACING_GEN_AI_CONTENT_RECORDING_ENABLED'] = 'true'\n",
    "# Enable Azure Monitor tracing\n",
    "application_insights_connection_string = project_client.telemetry.get_connection_string()\n",
    "\n",
    "if not application_insights_connection_string:\n",
    "    print(\"Application Insights was not enabled for this project.\")\n",
    "    print(\"Enable it via the 'Tracing' tab in your Azure AI Foundry project page.\")\n",
    "    exit()\n",
    "    \n",
    "configure_azure_monitor(connection_string=application_insights_connection_string)"
   ]
  },
  {
   "cell_type": "code",
   "execution_count": null,
   "id": "b61269a3",
   "metadata": {},
   "outputs": [],
   "source": [
    "bing_connection = project_client.connections.get(name=BING_CONNECTION_NAME)\n",
    "logger.info(f\"bing_connection: {bing_connection['name']}\")\n",
    "conn_id = bing_connection.id\n",
    "\n",
    "bing = BingGroundingTool(connection_id=conn_id)"
   ]
  },
  {
   "cell_type": "code",
   "execution_count": null,
   "id": "2f4b2536",
   "metadata": {},
   "outputs": [],
   "source": [
    "\n",
    "agent_name = os.environ[\"AZURE_AI_AGENT_NAME_02\"]\n",
    "agent_list = project_client.agents.list_agents()\n",
    "\n",
    "agent = None\n",
    "if agent_list:\n",
    "    for agent_object in agent_list:\n",
    "        if agent_object.name == agent_name:\n",
    "            agent = agent_object\n",
    "\n",
    "if not agent:\n",
    "    print(f\"Agent '{agent_name}' not found in the project.\")\n",
    "else:\n",
    "    logger.info(f\"Agent '{agent_name}' found in the project.\")\n",
    "    logger.info(f\"Agent ID: {agent.id}\")"
   ]
  },
  {
   "cell_type": "code",
   "execution_count": null,
   "id": "fbbee892",
   "metadata": {},
   "outputs": [],
   "source": [
    "# Create an Azure AI Client from an endpoint, copied from your Azure AI Foundry project.\n",
    "# You need to login to Azure subscription via Azure CLI and set the environment variables\n",
    "project_endpoint = os.environ[\"PROJECT_ENDPOINT\"]  # Ensure the PROJECT_ENDPOINT environment variable is set\n",
    "\n",
    "# Create an AIProjectClient instance\n",
    "project_client = AIProjectClient(\n",
    "    endpoint=project_endpoint,\n",
    "    credential=DefaultAzureCredential(),  # Use Azure Default Credential for authentication\n",
    ")\n",
    "\n",
    "if not agent:\n",
    "    logger.info(f\"Agent with name '{agent_name}' not found, creating a new agent.\")\n",
    "\n",
    "    agent = project_client.agents.create_agent(\n",
    "        model=os.environ[\"MODEL_DEPLOYMENT_NAME\"],  # Specify the model to use\n",
    "        name=agent_name,  # Name of the agent\n",
    "        instructions=\"You are a helpful agent with a tool for grounding with bing, this this tool to find relevant answers\",  # Instructions for the agent\n",
    "        tools=bing.definitions,  # Attach the Bing Grounding tool\n",
    "    )\n",
    "    logger.info(f\"Created agent, ID: {agent.id}\")\n",
    "else:\n",
    "    logger.info(f\"Found agent by name '{agent_name}', ID={agent.id}\")"
   ]
  },
  {
   "cell_type": "code",
   "execution_count": null,
   "id": "57dfdac4",
   "metadata": {},
   "outputs": [],
   "source": [
    "thread = project_client.agents.threads.create()\n",
    "print(f\"Created thread, ID: {thread.id}\")\n",
    "\n",
    "# Create message to thread\n",
    "message = project_client.agents.messages.create(\n",
    "        thread_id=thread.id,\n",
    "        role=\"user\",  # Role of the message sender\n",
    "        content=\"what is the weather in London?\",  # Message content\n",
    "    )\n",
    "print(f\"Created message, ID: {message['id']}\")"
   ]
  },
  {
   "cell_type": "code",
   "execution_count": null,
   "id": "0300419c",
   "metadata": {},
   "outputs": [],
   "source": [
    "run = project_client.agents.runs.create_and_process(thread_id=thread.id, agent_id=agent.id)\n",
    "print(f\"Run finished with status: {run.status}\")\n",
    "\n",
    "print(agent.name)\n",
    "print(agent.id)"
   ]
  },
  {
   "cell_type": "code",
   "execution_count": null,
   "id": "636df110",
   "metadata": {},
   "outputs": [],
   "source": [
    "from azure.ai.agents.models import MessageRole\n",
    "\n",
    "if run.status == \"failed\":\n",
    "    print(f\"Run failed: {run.last_error}\")\n",
    "else:\n",
    "    messages = project_client.agents.messages.list(thread_id=thread.id, order=ListSortOrder.ASCENDING)\n",
    "\n",
    "run_steps = project_client.agents.run_steps.list(thread_id=thread.id, run_id=run.id)\n",
    "\n",
    "for step in run_steps:\n",
    "        print(f\"Step {step['id']} status: {step['status']}\")\n",
    "        step_details = step.get(\"step_details\", {})\n",
    "        tool_calls = step_details.get(\"tool_calls\", [])\n",
    "\n",
    "        if tool_calls:\n",
    "            print(\"  Tool calls:\")\n",
    "            for call in tool_calls:\n",
    "                print(f\"    Tool Call ID: {call.get('id')}\")\n",
    "                print(f\"    Type: {call.get('type')}\")\n",
    "\n",
    "                bing_grounding_details = call.get(\"bing_grounding\", {})\n",
    "                if bing_grounding_details:\n",
    "                    print(f\"    Bing Grounding ID: {bing_grounding_details.get('requesturl')}\")\n",
    "\n",
    "        print()  # add an extra newline between steps\n",
    "\n",
    "for message in messages:\n",
    "    if message.text_messages:\n",
    "        print(f\"{message.role}: {message.text_messages[-1].text.value}\")\n",
    "        if message.role == MessageRole.AGENT:\n",
    "            for annotation in message.url_citation_annotations:\n",
    "                print(f\"    URL Citation: [{annotation.url_citation.title}]({annotation.url_citation.url})\")"
   ]
  },
  {
   "cell_type": "code",
   "execution_count": null,
   "id": "2f831601",
   "metadata": {},
   "outputs": [],
   "source": []
  }
 ],
 "metadata": {
  "kernelspec": {
   "display_name": ".venv",
   "language": "python",
   "name": "python3"
  },
  "language_info": {
   "codemirror_mode": {
    "name": "ipython",
    "version": 3
   },
   "file_extension": ".py",
   "mimetype": "text/x-python",
   "name": "python",
   "nbconvert_exporter": "python",
   "pygments_lexer": "ipython3",
   "version": "3.13.5"
  }
 },
 "nbformat": 4,
 "nbformat_minor": 5
}
