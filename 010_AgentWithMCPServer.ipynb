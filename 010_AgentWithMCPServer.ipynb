{
 "cells": [
  {
   "cell_type": "code",
   "execution_count": null,
   "id": "3448d320",
   "metadata": {},
   "outputs": [],
   "source": [
    "from dotenv import load_dotenv  \n",
    "import os  \n",
    "# Configure logger\n",
    "import logging\n",
    "import sys\n",
    "from azure.ai.projects import AIProjectClient\n",
    "from azure.identity import DefaultAzureCredential\n",
    "from azure.ai.agents.models import CodeInterpreterTool\n",
    "from azure.ai.agents.models import ListSortOrder\n",
    "from azure.ai.agents.models import McpTool  # Correct import path for McpTool\n",
    "\n",
    "# Load the .env file  \n",
    "load_dotenv(override=True) \n",
    "\n",
    "# Now you can use the environment variables, for example:  \n",
    "project_endpoint = os.environ[\"PROJECT_ENDPOINT\"]\n",
    "model=os.environ[\"MODEL_DEPLOYMENT_NAME\"]\n",
    "\n",
    "print(project_endpoint + \" \" + model)"
   ]
  },
  {
   "cell_type": "code",
   "execution_count": null,
   "id": "8a29e73b",
   "metadata": {},
   "outputs": [],
   "source": [
    "# Retrieve the project endpoint from environment variables\n",
    "project_endpoint = os.environ[\"PROJECT_ENDPOINT\"]\n",
    "\n",
    "\n",
    "# Initialize the AIProjectClient\n",
    "project_client = AIProjectClient(\n",
    "    endpoint=project_endpoint,\n",
    "    credential=DefaultAzureCredential(),\n",
    ")"
   ]
  },
  {
   "cell_type": "code",
   "execution_count": null,
   "id": "d846b1de",
   "metadata": {},
   "outputs": [],
   "source": [
    "\n",
    "agent_name = os.environ[\"AZURE_MCP_AGENT_NAME\"]\n",
    "agent_list = project_client.agents.list_agents()\n",
    "\n",
    "agent = None\n",
    "if agent_list:\n",
    "    for agent_object in agent_list:\n",
    "        if agent_object.name == agent_name:\n",
    "            agent = agent_object\n",
    "\n",
    "if not agent:\n",
    "    print(f\"Agent '{agent_name}' not found in the project.\")\n",
    "else:\n",
    "    logger.info(f\"Agent '{agent_name}' found in the project.\")\n",
    "    logger.info(f\"Agent ID: {agent.id}\")"
   ]
  },
  {
   "cell_type": "code",
   "execution_count": null,
   "id": "4cb87867",
   "metadata": {},
   "outputs": [],
   "source": [
    "mcp_server_url = \"https://learn.microsoft.com/api/mcp\"\n",
    "mcp_server_label = \"mslearn\"\n",
    "\n",
    "project_client = AIProjectClient(\n",
    "    endpoint=project_endpoint,\n",
    "    credential=DefaultAzureCredential(),\n",
    "    exclude_environment_credential=True,\n",
    "        exclude_managed_identity_credential=True\n",
    ")"
   ]
  },
  {
   "cell_type": "code",
   "execution_count": null,
   "id": "4845418b",
   "metadata": {},
   "outputs": [],
   "source": []
  },
  {
   "cell_type": "code",
   "execution_count": null,
   "id": "0bc35dde",
   "metadata": {},
   "outputs": [],
   "source": [
    "if not agent:\n",
    "    logger.info(f\"Agent with name '{agent_name}' not found, creating a new agent.\")\n",
    "\n",
    "    # Initialize agent MCP tool\n",
    "    mcp_tool = McpTool(\n",
    "        server_label=mcp_server_label,\n",
    "        server_url=mcp_server_url,\n",
    "    )\n",
    "\n",
    "    # Create a new agent with the mcp tool definitions\n",
    "    agent = project_client.agents.create_agent(\n",
    "        model=os.environ[\"MODEL_DEPLOYMENT_NAME\"],\n",
    "        name=\"my-mcp-agent\",\n",
    "        instructions=\"\"\"\n",
    "        You have access to an MCP server called `microsoft.docs.mcp` - this tool allows you to \n",
    "        search through Microsoft's latest official documentation. Use the available MCP tools \n",
    "        to answer questions and perform tasks.\"\"\",\n",
    "        tools=mcp_tool.definitions,\n",
    ")\n",
    "    logger.info(f\"Created agent, ID: {agent.id}\")\n",
    "else:\n",
    "    logger.info(f\"Found agent by name '{agent_name}', ID={agent.id}\")\n",
    "\n"
   ]
  },
  {
   "cell_type": "code",
   "execution_count": null,
   "id": "5380a8b8",
   "metadata": {},
   "outputs": [],
   "source": [
    "thread = project_client.agents.threads.create()\n",
    "print(f\"Created thread, ID: {thread.id}\")"
   ]
  },
  {
   "cell_type": "code",
   "execution_count": null,
   "id": "1be5aab2",
   "metadata": {},
   "outputs": [],
   "source": [
    "message = project_client.agents.messages.create(\n",
    "    thread_id=thread.id,\n",
    "    role=\"user\",\n",
    "    content=\"\"\"\n",
    "    Give me the Azure CLI commands to create an Azure Container App iwth a managed idenitty\n",
    "    \"\"\"\n",
    ")\n",
    "\n",
    "print(f\"Created message, ID: {message.id}\")"
   ]
  },
  {
   "cell_type": "code",
   "execution_count": null,
   "id": "01d390ae",
   "metadata": {},
   "outputs": [],
   "source": [
    "# Update mcp tool headers\n",
    "mcp_tool.update_headers(\"SuperSecret\", \"123456\")"
   ]
  },
  {
   "cell_type": "code",
   "execution_count": null,
   "id": "8edceb7c",
   "metadata": {},
   "outputs": [],
   "source": [
    "# Set approval mode\n",
    "mcp_tool.set_approval_mode(\"never\")"
   ]
  },
  {
   "cell_type": "code",
   "execution_count": null,
   "id": "7029686c",
   "metadata": {},
   "outputs": [],
   "source": [
    "# Create and process agent run in thread with MCP tools\n",
    "run = project_client.agents.runs.create_and_process(thread_id=thread.id, agent_id=agent.id, tool_resources=mcp_tool.resources)\n",
    "print(f\"Created run, ID: {run.id}\")\n",
    "\n"
   ]
  },
  {
   "cell_type": "code",
   "execution_count": null,
   "id": "9c8a1304",
   "metadata": {},
   "outputs": [],
   "source": [
    "if run.status == \"failed\":\n",
    "        print(f\"Run failed: {run.last_error}\")\n",
    "    \n",
    "# Fetch and log all messages\n",
    "messages = project_client.agents.messages.list(thread_id=thread.id)\n",
    "for message in messages:\n",
    "    print(f\"Role: {message.role}, Content: {message.content}\")"
   ]
  },
  {
   "cell_type": "code",
   "execution_count": null,
   "id": "5d67bf3f",
   "metadata": {},
   "outputs": [],
   "source": []
  }
 ],
 "metadata": {
  "kernelspec": {
   "display_name": ".venv",
   "language": "python",
   "name": "python3"
  },
  "language_info": {
   "codemirror_mode": {
    "name": "ipython",
    "version": 3
   },
   "file_extension": ".py",
   "mimetype": "text/x-python",
   "name": "python",
   "nbconvert_exporter": "python",
   "pygments_lexer": "ipython3",
   "version": "3.13.5"
  }
 },
 "nbformat": 4,
 "nbformat_minor": 5
}
